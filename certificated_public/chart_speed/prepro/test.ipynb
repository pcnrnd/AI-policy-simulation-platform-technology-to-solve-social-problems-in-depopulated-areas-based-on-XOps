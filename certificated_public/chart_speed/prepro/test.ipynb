{
 "cells": [
  {
   "cell_type": "code",
   "execution_count": 1,
   "metadata": {},
   "outputs": [
    {
     "ename": "ModuleNotFoundError",
     "evalue": "No module named 'duckdb'",
     "output_type": "error",
     "traceback": [
      "\u001b[31m---------------------------------------------------------------------------\u001b[39m",
      "\u001b[31mModuleNotFoundError\u001b[39m                       Traceback (most recent call last)",
      "\u001b[36mCell\u001b[39m\u001b[36m \u001b[39m\u001b[32mIn[1]\u001b[39m\u001b[32m, line 1\u001b[39m\n\u001b[32m----> \u001b[39m\u001b[32m1\u001b[39m \u001b[38;5;28;01mimport\u001b[39;00m\u001b[38;5;250m \u001b[39m\u001b[34;01mduckdb\u001b[39;00m\n",
      "\u001b[31mModuleNotFoundError\u001b[39m: No module named 'duckdb'"
     ]
    }
   ],
   "source": [
    "import duckdb"
   ]
  },
  {
   "cell_type": "code",
   "execution_count": 2,
   "metadata": {},
   "outputs": [],
   "source": [
    "conn = duckdb.connect('../data/database.db')"
   ]
  },
  {
   "cell_type": "code",
   "execution_count": 4,
   "metadata": {},
   "outputs": [
    {
     "data": {
      "text/plain": [
       "┌──────────────┬─────────────────────┬──────────┬────────────┬───┬────────────────┬─────────────┬─────────┬───────┐\n",
       "│ 개방서비스명 │     인허가일자      │ 폐업일자 │ 영업상태명 │ … │     읍면동     │   도로명    │  번지   │  num  │\n",
       "│   varchar    │    timestamp_ns     │ varchar  │  varchar   │   │    varchar     │   varchar   │ varchar │ int64 │\n",
       "├──────────────┼─────────────────────┼──────────┼────────────┼───┼────────────────┼─────────────┼─────────┼───────┤\n",
       "│ 일반음식점   │ 2024-07-31 00:00:00 │ NULL     │ 영업/정상  │ … │ 청원구         │ 율량로      │ 192     │     1 │\n",
       "│ 일반음식점   │ 2024-07-31 00:00:00 │ NULL     │ 영업/정상  │ … │ 상화로29길     │             │ 34      │     1 │\n",
       "│ 일반음식점   │ 2024-07-31 00:00:00 │ NULL     │ 영업/정상  │ … │ 백제고분로40길 │             │ 36      │     1 │\n",
       "│ 일반음식점   │ 2024-07-31 00:00:00 │ NULL     │ 영업/정상  │ … │ 만안구         │ 삼봉로      │ 29      │     1 │\n",
       "│ 일반음식점   │ 2024-07-31 00:00:00 │ NULL     │ 영업/정상  │ … │ 만안구         │ 박달로      │ 460     │     1 │\n",
       "│ 일반음식점   │ 2024-07-31 00:00:00 │ NULL     │ 영업/정상  │ … │ 월미로         │             │ 33      │     1 │\n",
       "│ 일반음식점   │ 2024-07-31 00:00:00 │ NULL     │ 영업/정상  │ … │ 을왕로         │             │ 6       │     1 │\n",
       "│ 일반음식점   │ 2024-07-31 00:00:00 │ NULL     │ 영업/정상  │ … │ 미금로         │             │ 134     │     1 │\n",
       "│ 일반음식점   │ 2024-07-31 00:00:00 │ NULL     │ 영업/정상  │ … │ 다산순환로     │             │ 20      │     1 │\n",
       "│ 일반음식점   │ 2024-07-31 00:00:00 │ NULL     │ 영업/정상  │ … │ 진접읍         │ 해밀예당1로 │ 40      │     1 │\n",
       "│     ·        │          ·          │  ·       │     ·      │ · │   ·            │      ·      │ ·       │     · │\n",
       "│     ·        │          ·          │  ·       │     ·      │ · │   ·            │      ·      │ ·       │     · │\n",
       "│     ·        │          ·          │  ·       │     ·      │ · │   ·            │      ·      │ ·       │     · │\n",
       "│ 일반음식점   │ 2024-06-07 00:00:00 │ NULL     │ 영업/정상  │ … │ 월곶중앙로     │             │ 48      │     1 │\n",
       "│ 일반음식점   │ 2024-06-07 00:00:00 │ NULL     │ 영업/정상  │ … │ 대안로         │             │ 116     │     1 │\n",
       "│ 일반음식점   │ 2024-06-07 00:00:00 │ NULL     │ 영업/정상  │ … │ 풍산읍         │ 유통단지길  │ 100     │     1 │\n",
       "│ 일반음식점   │ 2024-06-07 00:00:00 │ NULL     │ 영업/정상  │ … │ 고려대로24길   │             │ 55      │     1 │\n",
       "│ 일반음식점   │ 2024-06-07 00:00:00 │ NULL     │ 영업/정상  │ … │ 해룡면         │ 삼동길      │ 2-2     │     1 │\n",
       "│ 일반음식점   │ 2024-06-07 00:00:00 │ NULL     │ 영업/정상  │ … │ 봉담읍         │ 상리2길     │ 97      │     1 │\n",
       "│ 일반음식점   │ 2024-06-07 00:00:00 │ NULL     │ 영업/정상  │ … │ 노작로         │             │ 143     │     1 │\n",
       "│ 일반음식점   │ 2024-06-07 00:00:00 │ NULL     │ 영업/정상  │ … │ 경기대로       │             │ 1011    │     1 │\n",
       "│ 일반음식점   │ 2024-06-07 00:00:00 │ NULL     │ 영업/정상  │ … │ 동탄대로       │             │ 181     │     1 │\n",
       "│ 일반음식점   │ 2024-06-07 00:00:00 │ NULL     │ 영업/정상  │ … │ 함양읍         │ 용평중앙길  │ 38-4    │     1 │\n",
       "├──────────────┴─────────────────────┴──────────┴────────────┴───┴────────────────┴─────────────┴─────────┴───────┤\n",
       "│ ? rows (>9999 rows, 20 shown)                                                              15 columns (8 shown) │\n",
       "└─────────────────────────────────────────────────────────────────────────────────────────────────────────────────┘"
      ]
     },
     "execution_count": 4,
     "metadata": {},
     "output_type": "execute_result"
    }
   ],
   "source": [
    "conn.sql('SELECT * FROM restaurant_2023')"
   ]
  },
  {
   "cell_type": "code",
   "execution_count": 5,
   "metadata": {},
   "outputs": [],
   "source": [
    "conn.close()"
   ]
  },
  {
   "cell_type": "code",
   "execution_count": null,
   "metadata": {},
   "outputs": [],
   "source": []
  }
 ],
 "metadata": {
  "kernelspec": {
   "display_name": ".population",
   "language": "python",
   "name": "python3"
  },
  "language_info": {
   "codemirror_mode": {
    "name": "ipython",
    "version": 3
   },
   "file_extension": ".py",
   "mimetype": "text/x-python",
   "name": "python",
   "nbconvert_exporter": "python",
   "pygments_lexer": "ipython3",
   "version": "3.11.2"
  }
 },
 "nbformat": 4,
 "nbformat_minor": 2
}
