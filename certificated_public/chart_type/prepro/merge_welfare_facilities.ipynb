{
 "cells": [
  {
   "cell_type": "code",
   "execution_count": 1,
   "metadata": {},
   "outputs": [],
   "source": [
    "import pandas as pd\n",
    "import glob"
   ]
  },
  {
   "cell_type": "code",
   "execution_count": 2,
   "metadata": {},
   "outputs": [],
   "source": [
    "paths = glob.glob('../data/namwon/*.csv')"
   ]
  },
  {
   "cell_type": "code",
   "execution_count": 6,
   "metadata": {},
   "outputs": [],
   "source": [
    "path1 = '../data/namwon/전라북도 남원시_문화및집회시설_20230822.csv'\n",
    "path2 = '../data/namwon/전라북도 남원시_사회복지시설현황_20231106.csv'\n",
    "path3 = '../data/namwon/전라북도 남원시_작은 도서관 현황_20231106.csv'\n",
    "path4 =  '../data/namwon/전북특별자치도 남원시_숙박업소_20240508.csv'"
   ]
  },
  {
   "cell_type": "code",
   "execution_count": 7,
   "metadata": {},
   "outputs": [],
   "source": [
    "def split_address(address):\n",
    "    parts = address.split()\n",
    "    \n",
    "    if len(parts) >= 4:\n",
    "        city_name = parts[0]  # 예: 전라북도\n",
    "        district = parts[1]  # 예: 남원시\n",
    "        town = parts[2]  # 예: 대강면\n",
    "        road_name = ' '.join(parts[3:-1])  # 예: 대강월산길 (주소의 마지막 요소 전까지 모두 도로명으로 처리)\n",
    "        bungee = parts[-1]  # 예: 37-16 (주소의 마지막 요소는 항상 번지로 처리)\n",
    "        \n",
    "        return city_name, district, town, road_name, bungee\n",
    "    else:\n",
    "        return None, None, None, None, None"
   ]
  },
  {
   "cell_type": "code",
   "execution_count": 8,
   "metadata": {},
   "outputs": [
    {
     "name": "stdout",
     "output_type": "stream",
     "text": [
      "0: ../data/namwon\\welfare_facilities.csv\n",
      "1: ../data/namwon\\전라북도 남원시_문화및집회시설_20230822.csv\n",
      "2: ../data/namwon\\전라북도 남원시_빈집_20230824.csv\n",
      "3: ../data/namwon\\전라북도 남원시_사회복지시설현황_20231106.csv\n",
      "4: ../data/namwon\\전라북도 남원시_인구현황_20230801.csv\n",
      "5: ../data/namwon\\전라북도 남원시_작은 도서관 현황_20231106.csv\n",
      "6: ../data/namwon\\전북특별자치도 남원시_숙박업소_20240508.csv\n"
     ]
    }
   ],
   "source": [
    "for idx, val in enumerate(paths):\n",
    "    print(f\"{idx}: {val}\")"
   ]
  },
  {
   "cell_type": "code",
   "execution_count": 10,
   "metadata": {},
   "outputs": [],
   "source": [
    "# 0, 2, 4, 5\n",
    "culture_facilities = pd.read_csv(path1, encoding='cp949') # 문화 및 집회 시설\n",
    "social_welfare = pd.read_csv(path2, encoding='cp949') # 사회복지시설\n",
    "library = pd.read_csv(path3, encoding='cp949') # 도서관\n",
    "accommodation = pd.read_csv(path4, encoding='cp949') # 숙박업소"
   ]
  },
  {
   "cell_type": "code",
   "execution_count": 11,
   "metadata": {},
   "outputs": [],
   "source": [
    "culture_facilities[['시도', '시군구', '읍면동', '도로명', '번지']] = culture_facilities['소재지'].apply(lambda x: pd.Series(split_address(x)))\n",
    "social_welfare[['시도', '시군구', '읍면동', '도로명', '번지']] = social_welfare['도로명주소'].apply(lambda x: pd.Series(split_address(x)))\n",
    "library[['시도', '시군구', '읍면동', '도로명', '번지']] = library['위치'].apply(lambda x: pd.Series(split_address(x)))\n",
    "accommodation[['시도', '시군구', '읍면동', '도로명', '번지']] = accommodation['소재지'].apply(lambda x: pd.Series(split_address(x)))"
   ]
  },
  {
   "cell_type": "code",
   "execution_count": 12,
   "metadata": {},
   "outputs": [],
   "source": [
    "filtered_culture_facilities = culture_facilities.loc[:, ['소재지', '명칭', '읍면동']].rename(columns={'명칭': '시설명'})\n",
    "filtered_culture_facilities['구분'] = '문화시설'\n",
    "filtered_culture_facilities['num'] = 1\n",
    "\n",
    "filtered_accommodation = accommodation.loc[:, ['소재지', '숙박업소명', '읍면동']].rename(columns={'숙박업소명': '시설명'})\n",
    "filtered_accommodation['구분'] = '숙박업소'\n",
    "filtered_accommodation['num'] = 1\n",
    "\n",
    "filtered_library = library.loc[:, ['위치', '도서관명', '읍면동']].rename(columns={'위치': '소재지', '도서관명': '시설명'})\n",
    "filtered_library['구분'] = '도서관'\n",
    "filtered_library['num'] = 1\n",
    "\n",
    "filtered_social_welfare = social_welfare.loc[:, ['도로명주소', '시설명', '읍면동']].rename(columns={'도로명주소': '소재지'})\n",
    "filtered_social_welfare['구분'] = '사회복지시설'\n",
    "filtered_social_welfare['num'] = 1"
   ]
  },
  {
   "cell_type": "code",
   "execution_count": 13,
   "metadata": {},
   "outputs": [
    {
     "data": {
      "text/html": [
       "<div>\n",
       "<style scoped>\n",
       "    .dataframe tbody tr th:only-of-type {\n",
       "        vertical-align: middle;\n",
       "    }\n",
       "\n",
       "    .dataframe tbody tr th {\n",
       "        vertical-align: top;\n",
       "    }\n",
       "\n",
       "    .dataframe thead th {\n",
       "        text-align: right;\n",
       "    }\n",
       "</style>\n",
       "<table border=\"1\" class=\"dataframe\">\n",
       "  <thead>\n",
       "    <tr style=\"text-align: right;\">\n",
       "      <th></th>\n",
       "      <th>소재지</th>\n",
       "      <th>시설명</th>\n",
       "      <th>읍면동</th>\n",
       "      <th>구분</th>\n",
       "      <th>num</th>\n",
       "    </tr>\n",
       "  </thead>\n",
       "  <tbody>\n",
       "    <tr>\n",
       "      <th>0</th>\n",
       "      <td>전라북도 남원시 양림길 43</td>\n",
       "      <td>춘향문화예술회관</td>\n",
       "      <td>양림길</td>\n",
       "      <td>문화시설</td>\n",
       "      <td>1</td>\n",
       "    </tr>\n",
       "    <tr>\n",
       "      <th>1</th>\n",
       "      <td>전라북도 남원시 광한북로 54</td>\n",
       "      <td>지리산소극장</td>\n",
       "      <td>광한북로</td>\n",
       "      <td>문화시설</td>\n",
       "      <td>1</td>\n",
       "    </tr>\n",
       "    <tr>\n",
       "      <th>2</th>\n",
       "      <td>전라북도 남원시 양림길 54</td>\n",
       "      <td>국립민속국악원</td>\n",
       "      <td>양림길</td>\n",
       "      <td>문화시설</td>\n",
       "      <td>1</td>\n",
       "    </tr>\n",
       "  </tbody>\n",
       "</table>\n",
       "</div>"
      ],
      "text/plain": [
       "                소재지       시설명   읍면동    구분  num\n",
       "0   전라북도 남원시 양림길 43  춘향문화예술회관   양림길  문화시설    1\n",
       "1  전라북도 남원시 광한북로 54    지리산소극장  광한북로  문화시설    1\n",
       "2   전라북도 남원시 양림길 54   국립민속국악원   양림길  문화시설    1"
      ]
     },
     "execution_count": 13,
     "metadata": {},
     "output_type": "execute_result"
    }
   ],
   "source": [
    "df = pd.concat([filtered_culture_facilities, filtered_accommodation, filtered_library, filtered_social_welfare])\n",
    "df[:3]"
   ]
  },
  {
   "cell_type": "code",
   "execution_count": 14,
   "metadata": {},
   "outputs": [],
   "source": [
    "df.to_csv('../data/namwon/welfare_facilities.csv', index=False)"
   ]
  },
  {
   "cell_type": "code",
   "execution_count": null,
   "metadata": {},
   "outputs": [],
   "source": []
  }
 ],
 "metadata": {
  "kernelspec": {
   "display_name": "data",
   "language": "python",
   "name": "python3"
  },
  "language_info": {
   "codemirror_mode": {
    "name": "ipython",
    "version": 3
   },
   "file_extension": ".py",
   "mimetype": "text/x-python",
   "name": "python",
   "nbconvert_exporter": "python",
   "pygments_lexer": "ipython3",
   "version": "3.10.14"
  }
 },
 "nbformat": 4,
 "nbformat_minor": 2
}
