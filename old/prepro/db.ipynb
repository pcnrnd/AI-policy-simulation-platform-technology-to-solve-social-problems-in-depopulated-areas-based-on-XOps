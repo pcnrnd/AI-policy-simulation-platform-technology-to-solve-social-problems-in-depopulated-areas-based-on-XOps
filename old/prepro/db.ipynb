{
 "cells": [
  {
   "cell_type": "code",
   "execution_count": 1,
   "metadata": {},
   "outputs": [],
   "source": [
    "import duckdb\n",
    "import pandas as pd"
   ]
  },
  {
   "cell_type": "code",
   "execution_count": 2,
   "metadata": {},
   "outputs": [],
   "source": [
    "con = duckdb.connect('../data/database.db')"
   ]
  },
  {
   "cell_type": "code",
   "execution_count": 4,
   "metadata": {},
   "outputs": [],
   "source": [
    "empty_house = pd.read_csv('../data/namwon/전라북도 남원시_빈집_20230824.csv', encoding='cp949')\n",
    "population = pd.read_csv('../data/namwon/전라북도 남원시_인구현황_20230801.csv', encoding='cp949')\n",
    "library = pd.read_csv('../data/namwon/전라북도 남원시_작은 도서관 현황_20231106.csv', encoding='cp949')\n",
    "welfare_facilities = pd.read_csv('../data/namwon/welfare_facilities.csv')"
   ]
  },
  {
   "cell_type": "code",
   "execution_count": null,
   "metadata": {},
   "outputs": [],
   "source": [
    "# 데이터 저장\n",
    "df = pd.read_csv('../data/speed_data.csv')\n",
    "con.execute(\"CREATE TABLE speed_data AS SELECT * FROM df\")"
   ]
  },
  {
   "cell_type": "code",
   "execution_count": null,
   "metadata": {},
   "outputs": [],
   "source": [
    "con.execute(\"CREATE TABLE empty_house AS SELECT * FROM empty_house\")"
   ]
  },
  {
   "cell_type": "code",
   "execution_count": null,
   "metadata": {},
   "outputs": [],
   "source": [
    "con.execute(\"CREATE TABLE population AS SELECT * FROM population\")"
   ]
  },
  {
   "cell_type": "code",
   "execution_count": 7,
   "metadata": {},
   "outputs": [
    {
     "data": {
      "text/plain": [
       "<duckdb.duckdb.DuckDBPyConnection at 0x2271d048f70>"
      ]
     },
     "execution_count": 7,
     "metadata": {},
     "output_type": "execute_result"
    }
   ],
   "source": [
    "con.execute(\"CREATE TABLE welfare_facilities AS SELECT * FROM welfare_facilities\")"
   ]
  },
  {
   "cell_type": "code",
   "execution_count": null,
   "metadata": {},
   "outputs": [],
   "source": [
    "con.execute(\"CREATE TABLE library AS SELECT * FROM library\")"
   ]
  },
  {
   "cell_type": "code",
   "execution_count": 8,
   "metadata": {},
   "outputs": [],
   "source": [
    "# 데이터 조회\n",
    "df1 = con.execute(\"SELECT * FROM speed_data\").df()\n",
    "df2 = con.execute(\"SELECT * FROM empty_house\").df()\n",
    "df3 = con.execute(\"SELECT * FROM population\").df()\n",
    "df4 = con.execute(\"SELECT * FROM welfare_facilities\").df()\n",
    "df5 = con.execute(\"SELECT * FROM library\").df()"
   ]
  },
  {
   "cell_type": "code",
   "execution_count": 54,
   "metadata": {},
   "outputs": [
    {
     "data": {
      "text/html": [
       "<div>\n",
       "<style scoped>\n",
       "    .dataframe tbody tr th:only-of-type {\n",
       "        vertical-align: middle;\n",
       "    }\n",
       "\n",
       "    .dataframe tbody tr th {\n",
       "        vertical-align: top;\n",
       "    }\n",
       "\n",
       "    .dataframe thead th {\n",
       "        text-align: right;\n",
       "    }\n",
       "</style>\n",
       "<table border=\"1\" class=\"dataframe\">\n",
       "  <thead>\n",
       "    <tr style=\"text-align: right;\">\n",
       "      <th></th>\n",
       "      <th>개방서비스명</th>\n",
       "      <th>인허가일자</th>\n",
       "      <th>폐업일자</th>\n",
       "      <th>영업상태명</th>\n",
       "      <th>소재지</th>\n",
       "      <th>시설명</th>\n",
       "      <th>구분</th>\n",
       "      <th>남성종사자수</th>\n",
       "      <th>여성종사자수</th>\n",
       "      <th>시도</th>\n",
       "      <th>시군구</th>\n",
       "      <th>읍면동</th>\n",
       "      <th>도로명</th>\n",
       "      <th>번지</th>\n",
       "      <th>num</th>\n",
       "    </tr>\n",
       "  </thead>\n",
       "  <tbody>\n",
       "    <tr>\n",
       "      <th>0</th>\n",
       "      <td>일반음식점</td>\n",
       "      <td>2024-07-31</td>\n",
       "      <td>None</td>\n",
       "      <td>영업/정상</td>\n",
       "      <td>충청북도 청주시 청원구 율량로 192</td>\n",
       "      <td>상만이네야장포차</td>\n",
       "      <td>한식</td>\n",
       "      <td>0.0</td>\n",
       "      <td>0.0</td>\n",
       "      <td>충청북도</td>\n",
       "      <td>청주시</td>\n",
       "      <td>청원구</td>\n",
       "      <td>율량로</td>\n",
       "      <td>192</td>\n",
       "      <td>1</td>\n",
       "    </tr>\n",
       "    <tr>\n",
       "      <th>1</th>\n",
       "      <td>일반음식점</td>\n",
       "      <td>2024-07-31</td>\n",
       "      <td>None</td>\n",
       "      <td>영업/정상</td>\n",
       "      <td>대구광역시 달서구 상화로29길 34</td>\n",
       "      <td>집밥전문 찌개좀 먹어본놈</td>\n",
       "      <td>한식</td>\n",
       "      <td>0.0</td>\n",
       "      <td>0.0</td>\n",
       "      <td>대구광역시</td>\n",
       "      <td>달서구</td>\n",
       "      <td>상화로29길</td>\n",
       "      <td>None</td>\n",
       "      <td>34</td>\n",
       "      <td>1</td>\n",
       "    </tr>\n",
       "  </tbody>\n",
       "</table>\n",
       "</div>"
      ],
      "text/plain": [
       "  개방서비스명       인허가일자  폐업일자  영업상태명                   소재지            시설명  구분  \\\n",
       "0  일반음식점  2024-07-31  None  영업/정상  충청북도 청주시 청원구 율량로 192       상만이네야장포차  한식   \n",
       "1  일반음식점  2024-07-31  None  영업/정상   대구광역시 달서구 상화로29길 34  집밥전문 찌개좀 먹어본놈  한식   \n",
       "\n",
       "   남성종사자수  여성종사자수     시도  시군구     읍면동   도로명   번지  num  \n",
       "0     0.0     0.0   충청북도  청주시     청원구   율량로  192    1  \n",
       "1     0.0     0.0  대구광역시  달서구  상화로29길  None   34    1  "
      ]
     },
     "execution_count": 54,
     "metadata": {},
     "output_type": "execute_result"
    }
   ],
   "source": [
    "df1[:2]"
   ]
  },
  {
   "cell_type": "code",
   "execution_count": 55,
   "metadata": {},
   "outputs": [
    {
     "data": {
      "text/html": [
       "<div>\n",
       "<style scoped>\n",
       "    .dataframe tbody tr th:only-of-type {\n",
       "        vertical-align: middle;\n",
       "    }\n",
       "\n",
       "    .dataframe tbody tr th {\n",
       "        vertical-align: top;\n",
       "    }\n",
       "\n",
       "    .dataframe thead th {\n",
       "        text-align: right;\n",
       "    }\n",
       "</style>\n",
       "<table border=\"1\" class=\"dataframe\">\n",
       "  <thead>\n",
       "    <tr style=\"text-align: right;\">\n",
       "      <th></th>\n",
       "      <th>소재지 도로명주소</th>\n",
       "      <th>소재지 지번주소</th>\n",
       "      <th>연면적</th>\n",
       "      <th>건축면적</th>\n",
       "      <th>대지면적</th>\n",
       "      <th>주택유형</th>\n",
       "      <th>담당기관</th>\n",
       "      <th>담당자 연락처</th>\n",
       "      <th>데이터 기준일자</th>\n",
       "    </tr>\n",
       "  </thead>\n",
       "  <tbody>\n",
       "    <tr>\n",
       "      <th>0</th>\n",
       "      <td>전라북도 남원시 대강면 대강월산길 37-16</td>\n",
       "      <td>전라북도 남원시 대강면 월탄리 175-2</td>\n",
       "      <td>46.99</td>\n",
       "      <td>46.99</td>\n",
       "      <td>159</td>\n",
       "      <td>단독주택(다가구)</td>\n",
       "      <td>남원시청 건축과</td>\n",
       "      <td>063-620-6594</td>\n",
       "      <td>2023-08-24</td>\n",
       "    </tr>\n",
       "    <tr>\n",
       "      <th>1</th>\n",
       "      <td>전라북도 남원시 옥샘길 42-7</td>\n",
       "      <td>전라북도 남원시 동충동 12-11</td>\n",
       "      <td>108.10</td>\n",
       "      <td>108.10</td>\n",
       "      <td>264</td>\n",
       "      <td>단독주택(다가구)</td>\n",
       "      <td>남원시청 건축과</td>\n",
       "      <td>063-620-6594</td>\n",
       "      <td>2023-08-24</td>\n",
       "    </tr>\n",
       "  </tbody>\n",
       "</table>\n",
       "</div>"
      ],
      "text/plain": [
       "                  소재지 도로명주소                소재지 지번주소     연면적    건축면적  대지면적   \\\n",
       "0  전라북도 남원시 대강면 대강월산길 37-16  전라북도 남원시 대강면 월탄리 175-2   46.99   46.99    159   \n",
       "1         전라북도 남원시 옥샘길 42-7      전라북도 남원시 동충동 12-11  108.10  108.10    264   \n",
       "\n",
       "        주택유형      담당기관       담당자 연락처    데이터 기준일자  \n",
       "0  단독주택(다가구)  남원시청 건축과  063-620-6594  2023-08-24  \n",
       "1  단독주택(다가구)  남원시청 건축과  063-620-6594  2023-08-24  "
      ]
     },
     "execution_count": 55,
     "metadata": {},
     "output_type": "execute_result"
    }
   ],
   "source": [
    "df2[:2]"
   ]
  },
  {
   "cell_type": "code",
   "execution_count": 56,
   "metadata": {},
   "outputs": [
    {
     "data": {
      "text/html": [
       "<div>\n",
       "<style scoped>\n",
       "    .dataframe tbody tr th:only-of-type {\n",
       "        vertical-align: middle;\n",
       "    }\n",
       "\n",
       "    .dataframe tbody tr th {\n",
       "        vertical-align: top;\n",
       "    }\n",
       "\n",
       "    .dataframe thead th {\n",
       "        text-align: right;\n",
       "    }\n",
       "</style>\n",
       "<table border=\"1\" class=\"dataframe\">\n",
       "  <thead>\n",
       "    <tr style=\"text-align: right;\">\n",
       "      <th></th>\n",
       "      <th>연도별</th>\n",
       "      <th>월별</th>\n",
       "      <th>읍면동</th>\n",
       "      <th>인구수</th>\n",
       "      <th>인구수(남)</th>\n",
       "      <th>인구수(여)</th>\n",
       "      <th>세대수</th>\n",
       "      <th>60세 이상 인구수</th>\n",
       "      <th>60세 이상 인구수(남)</th>\n",
       "      <th>60세 이상 인구수(여)</th>\n",
       "      <th>데이터기준일자</th>\n",
       "    </tr>\n",
       "  </thead>\n",
       "  <tbody>\n",
       "    <tr>\n",
       "      <th>0</th>\n",
       "      <td>2023</td>\n",
       "      <td>1월</td>\n",
       "      <td>운봉읍</td>\n",
       "      <td>3744</td>\n",
       "      <td>1807</td>\n",
       "      <td>1937</td>\n",
       "      <td>2078</td>\n",
       "      <td>2021</td>\n",
       "      <td>880</td>\n",
       "      <td>1141</td>\n",
       "      <td>2023-08-01</td>\n",
       "    </tr>\n",
       "    <tr>\n",
       "      <th>1</th>\n",
       "      <td>2023</td>\n",
       "      <td>1월</td>\n",
       "      <td>주천면</td>\n",
       "      <td>2559</td>\n",
       "      <td>1294</td>\n",
       "      <td>1265</td>\n",
       "      <td>1372</td>\n",
       "      <td>1264</td>\n",
       "      <td>587</td>\n",
       "      <td>677</td>\n",
       "      <td>2023-08-01</td>\n",
       "    </tr>\n",
       "  </tbody>\n",
       "</table>\n",
       "</div>"
      ],
      "text/plain": [
       "    연도별  월별  읍면동   인구수  인구수(남)  인구수(여)   세대수  60세 이상 인구수  60세 이상 인구수(남)  \\\n",
       "0  2023  1월  운봉읍  3744    1807    1937  2078        2021            880   \n",
       "1  2023  1월  주천면  2559    1294    1265  1372        1264            587   \n",
       "\n",
       "   60세 이상 인구수(여)     데이터기준일자  \n",
       "0           1141  2023-08-01  \n",
       "1            677  2023-08-01  "
      ]
     },
     "execution_count": 56,
     "metadata": {},
     "output_type": "execute_result"
    }
   ],
   "source": [
    "df3[:2]"
   ]
  },
  {
   "cell_type": "code",
   "execution_count": 57,
   "metadata": {},
   "outputs": [
    {
     "data": {
      "text/html": [
       "<div>\n",
       "<style scoped>\n",
       "    .dataframe tbody tr th:only-of-type {\n",
       "        vertical-align: middle;\n",
       "    }\n",
       "\n",
       "    .dataframe tbody tr th {\n",
       "        vertical-align: top;\n",
       "    }\n",
       "\n",
       "    .dataframe thead th {\n",
       "        text-align: right;\n",
       "    }\n",
       "</style>\n",
       "<table border=\"1\" class=\"dataframe\">\n",
       "  <thead>\n",
       "    <tr style=\"text-align: right;\">\n",
       "      <th></th>\n",
       "      <th>소재지</th>\n",
       "      <th>시설명</th>\n",
       "      <th>읍면동</th>\n",
       "      <th>구분</th>\n",
       "      <th>num</th>\n",
       "    </tr>\n",
       "  </thead>\n",
       "  <tbody>\n",
       "    <tr>\n",
       "      <th>0</th>\n",
       "      <td>전라북도 남원시 양림길 43</td>\n",
       "      <td>춘향문화예술회관</td>\n",
       "      <td>양림길</td>\n",
       "      <td>문화시설</td>\n",
       "      <td>1</td>\n",
       "    </tr>\n",
       "    <tr>\n",
       "      <th>1</th>\n",
       "      <td>전라북도 남원시 광한북로 54</td>\n",
       "      <td>지리산소극장</td>\n",
       "      <td>광한북로</td>\n",
       "      <td>문화시설</td>\n",
       "      <td>1</td>\n",
       "    </tr>\n",
       "  </tbody>\n",
       "</table>\n",
       "</div>"
      ],
      "text/plain": [
       "                소재지       시설명   읍면동    구분  num\n",
       "0   전라북도 남원시 양림길 43  춘향문화예술회관   양림길  문화시설    1\n",
       "1  전라북도 남원시 광한북로 54    지리산소극장  광한북로  문화시설    1"
      ]
     },
     "execution_count": 57,
     "metadata": {},
     "output_type": "execute_result"
    }
   ],
   "source": [
    "df4[:2]"
   ]
  },
  {
   "cell_type": "code",
   "execution_count": 58,
   "metadata": {},
   "outputs": [
    {
     "data": {
      "text/html": [
       "<div>\n",
       "<style scoped>\n",
       "    .dataframe tbody tr th:only-of-type {\n",
       "        vertical-align: middle;\n",
       "    }\n",
       "\n",
       "    .dataframe tbody tr th {\n",
       "        vertical-align: top;\n",
       "    }\n",
       "\n",
       "    .dataframe thead th {\n",
       "        text-align: right;\n",
       "    }\n",
       "</style>\n",
       "<table border=\"1\" class=\"dataframe\">\n",
       "  <thead>\n",
       "    <tr style=\"text-align: right;\">\n",
       "      <th></th>\n",
       "      <th>구분</th>\n",
       "      <th>도서관명</th>\n",
       "      <th>위치</th>\n",
       "      <th>규모</th>\n",
       "      <th>등록일</th>\n",
       "      <th>장서수</th>\n",
       "      <th>대표전화</th>\n",
       "      <th>데이터기준일자</th>\n",
       "    </tr>\n",
       "  </thead>\n",
       "  <tbody>\n",
       "    <tr>\n",
       "      <th>0</th>\n",
       "      <td>1</td>\n",
       "      <td>독우물작은도서관</td>\n",
       "      <td>전라북도 남원시 금지면 독우물길 33</td>\n",
       "      <td>66.0</td>\n",
       "      <td>2008-04-01</td>\n",
       "      <td>7730</td>\n",
       "      <td>063-626-6669</td>\n",
       "      <td>2023-11-06</td>\n",
       "    </tr>\n",
       "    <tr>\n",
       "      <th>1</th>\n",
       "      <td>2</td>\n",
       "      <td>혼불작은도서관</td>\n",
       "      <td>전라북도 남원시 사매면 오신1길 9-2</td>\n",
       "      <td>132.0</td>\n",
       "      <td>2009-02-01</td>\n",
       "      <td>11291</td>\n",
       "      <td>063-634-9003</td>\n",
       "      <td>2023-11-06</td>\n",
       "    </tr>\n",
       "  </tbody>\n",
       "</table>\n",
       "</div>"
      ],
      "text/plain": [
       "   구분      도서관명                     위치     규모         등록일    장서수  \\\n",
       "0   1  독우물작은도서관   전라북도 남원시 금지면 독우물길 33   66.0  2008-04-01   7730   \n",
       "1   2   혼불작은도서관  전라북도 남원시 사매면 오신1길 9-2  132.0  2009-02-01  11291   \n",
       "\n",
       "           대표전화     데이터기준일자  \n",
       "0  063-626-6669  2023-11-06  \n",
       "1  063-634-9003  2023-11-06  "
      ]
     },
     "execution_count": 58,
     "metadata": {},
     "output_type": "execute_result"
    }
   ],
   "source": [
    "df5[:2]"
   ]
  },
  {
   "cell_type": "code",
   "execution_count": 9,
   "metadata": {},
   "outputs": [],
   "source": [
    "con.close()"
   ]
  },
  {
   "cell_type": "code",
   "execution_count": null,
   "metadata": {},
   "outputs": [],
   "source": []
  }
 ],
 "metadata": {
  "kernelspec": {
   "display_name": "data",
   "language": "python",
   "name": "python3"
  },
  "language_info": {
   "codemirror_mode": {
    "name": "ipython",
    "version": 3
   },
   "file_extension": ".py",
   "mimetype": "text/x-python",
   "name": "python",
   "nbconvert_exporter": "python",
   "pygments_lexer": "ipython3",
   "version": "3.10.14"
  }
 },
 "nbformat": 4,
 "nbformat_minor": 2
}
