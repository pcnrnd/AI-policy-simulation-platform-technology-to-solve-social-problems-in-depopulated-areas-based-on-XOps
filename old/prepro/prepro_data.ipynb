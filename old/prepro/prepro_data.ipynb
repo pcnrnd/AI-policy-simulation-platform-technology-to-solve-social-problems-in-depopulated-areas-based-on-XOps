{
 "cells": [
  {
   "cell_type": "code",
   "execution_count": 1,
   "metadata": {},
   "outputs": [],
   "source": [
    "import pandas as pd"
   ]
  },
  {
   "cell_type": "code",
   "execution_count": 2,
   "metadata": {},
   "outputs": [
    {
     "name": "stderr",
     "output_type": "stream",
     "text": [
      "C:\\Users\\PCN\\AppData\\Local\\Temp\\ipykernel_1588\\3905001769.py:2: DtypeWarning: Columns (11,27,39,41,44,45) have mixed types. Specify dtype option on import or set low_memory=False.\n",
      "  df = pd.read_csv(PATH, encoding='cp949')\n"
     ]
    }
   ],
   "source": [
    "PATH = '../data/fulldata_07_24_04_P_일반음식점.csv'\n",
    "df = pd.read_csv(PATH, encoding='cp949')\n",
    "df = df.copy()"
   ]
  },
  {
   "cell_type": "code",
   "execution_count": null,
   "metadata": {},
   "outputs": [],
   "source": [
    "def split_address(address):\n",
    "    parts = address.split()\n",
    "    \n",
    "    if len(parts) >= 4:\n",
    "        city_name = parts[0]  # 예: 전라북도\n",
    "        district = parts[1]  # 예: 남원시\n",
    "        town = parts[2]  # 예: 대강면\n",
    "        road_name = ' '.join(parts[3:-1])  # 예: 대강월산길 (주소의 마지막 요소 전까지 모두 도로명으로 처리)\n",
    "        bungee = parts[-1]  # 예: 37-16 (주소의 마지막 요소는 항상 번지로 처리)\n",
    "        \n",
    "        return city_name, district, town, road_name, bungee\n",
    "    else:\n",
    "        return None, None, None, None, None"
   ]
  },
  {
   "cell_type": "code",
   "execution_count": 3,
   "metadata": {},
   "outputs": [
    {
     "data": {
      "text/plain": [
       "Index(['번호', '개방서비스명', '개방서비스아이디', '개방자치단체코드', '관리번호', '인허가일자', '인허가취소일자',\n",
       "       '영업상태구분코드', '영업상태명', '상세영업상태코드', '상세영업상태명', '폐업일자', '휴업시작일자', '휴업종료일자',\n",
       "       '재개업일자', '소재지전화', '소재지면적', '소재지우편번호', '소재지전체주소', '도로명전체주소', '도로명우편번호',\n",
       "       '사업장명', '최종수정시점', '데이터갱신구분', '데이터갱신일자', '업태구분명', '좌표정보(x)', '좌표정보(y)',\n",
       "       '위생업태명', '남성종사자수', '여성종사자수', '영업장주변구분명', '등급구분명', '급수시설구분명', '총직원수',\n",
       "       '본사직원수', '공장사무직직원수', '공장판매직직원수', '공장생산직직원수', '건물소유구분명', '보증액', '월세액',\n",
       "       '다중이용업소여부', '시설총규모', '전통업소지정번호', '전통업소주된음식', '홈페이지', 'Unnamed: 47'],\n",
       "      dtype='object')"
      ]
     },
     "execution_count": 3,
     "metadata": {},
     "output_type": "execute_result"
    }
   ],
   "source": [
    "df.columns"
   ]
  },
  {
   "cell_type": "code",
   "execution_count": 4,
   "metadata": {},
   "outputs": [
    {
     "data": {
      "text/html": [
       "<div>\n",
       "<style scoped>\n",
       "    .dataframe tbody tr th:only-of-type {\n",
       "        vertical-align: middle;\n",
       "    }\n",
       "\n",
       "    .dataframe tbody tr th {\n",
       "        vertical-align: top;\n",
       "    }\n",
       "\n",
       "    .dataframe thead th {\n",
       "        text-align: right;\n",
       "    }\n",
       "</style>\n",
       "<table border=\"1\" class=\"dataframe\">\n",
       "  <thead>\n",
       "    <tr style=\"text-align: right;\">\n",
       "      <th></th>\n",
       "      <th>번호</th>\n",
       "      <th>개방서비스명</th>\n",
       "      <th>개방서비스아이디</th>\n",
       "      <th>개방자치단체코드</th>\n",
       "      <th>관리번호</th>\n",
       "      <th>인허가일자</th>\n",
       "      <th>인허가취소일자</th>\n",
       "      <th>영업상태구분코드</th>\n",
       "      <th>영업상태명</th>\n",
       "      <th>상세영업상태코드</th>\n",
       "      <th>...</th>\n",
       "      <th>공장생산직직원수</th>\n",
       "      <th>건물소유구분명</th>\n",
       "      <th>보증액</th>\n",
       "      <th>월세액</th>\n",
       "      <th>다중이용업소여부</th>\n",
       "      <th>시설총규모</th>\n",
       "      <th>전통업소지정번호</th>\n",
       "      <th>전통업소주된음식</th>\n",
       "      <th>홈페이지</th>\n",
       "      <th>Unnamed: 47</th>\n",
       "    </tr>\n",
       "  </thead>\n",
       "  <tbody>\n",
       "    <tr>\n",
       "      <th>0</th>\n",
       "      <td>1</td>\n",
       "      <td>일반음식점</td>\n",
       "      <td>07_24_04_P</td>\n",
       "      <td>3550000</td>\n",
       "      <td>3550000-101-2023-00169</td>\n",
       "      <td>2023-11-20</td>\n",
       "      <td>NaN</td>\n",
       "      <td>3</td>\n",
       "      <td>폐업</td>\n",
       "      <td>2</td>\n",
       "      <td>...</td>\n",
       "      <td>0.0</td>\n",
       "      <td>NaN</td>\n",
       "      <td>0.0</td>\n",
       "      <td>0.0</td>\n",
       "      <td>N</td>\n",
       "      <td>36.10</td>\n",
       "      <td>NaN</td>\n",
       "      <td>NaN</td>\n",
       "      <td>NaN</td>\n",
       "      <td>NaN</td>\n",
       "    </tr>\n",
       "    <tr>\n",
       "      <th>1</th>\n",
       "      <td>2</td>\n",
       "      <td>일반음식점</td>\n",
       "      <td>07_24_04_P</td>\n",
       "      <td>5710000</td>\n",
       "      <td>5730000-101-2023-00460</td>\n",
       "      <td>2023-11-20</td>\n",
       "      <td>NaN</td>\n",
       "      <td>3</td>\n",
       "      <td>폐업</td>\n",
       "      <td>2</td>\n",
       "      <td>...</td>\n",
       "      <td>0.0</td>\n",
       "      <td>NaN</td>\n",
       "      <td>0.0</td>\n",
       "      <td>0.0</td>\n",
       "      <td>N</td>\n",
       "      <td>42.31</td>\n",
       "      <td>NaN</td>\n",
       "      <td>NaN</td>\n",
       "      <td>NaN</td>\n",
       "      <td>NaN</td>\n",
       "    </tr>\n",
       "  </tbody>\n",
       "</table>\n",
       "<p>2 rows × 48 columns</p>\n",
       "</div>"
      ],
      "text/plain": [
       "   번호 개방서비스명    개방서비스아이디  개방자치단체코드                    관리번호       인허가일자  \\\n",
       "0   1  일반음식점  07_24_04_P   3550000  3550000-101-2023-00169  2023-11-20   \n",
       "1   2  일반음식점  07_24_04_P   5710000  5730000-101-2023-00460  2023-11-20   \n",
       "\n",
       "   인허가취소일자  영업상태구분코드 영업상태명  상세영업상태코드  ... 공장생산직직원수 건물소유구분명  보증액  월세액  \\\n",
       "0      NaN         3    폐업         2  ...      0.0     NaN  0.0  0.0   \n",
       "1      NaN         3    폐업         2  ...      0.0     NaN  0.0  0.0   \n",
       "\n",
       "   다중이용업소여부  시설총규모  전통업소지정번호 전통업소주된음식 홈페이지 Unnamed: 47  \n",
       "0         N  36.10       NaN      NaN  NaN         NaN  \n",
       "1         N  42.31       NaN      NaN  NaN         NaN  \n",
       "\n",
       "[2 rows x 48 columns]"
      ]
     },
     "execution_count": 4,
     "metadata": {},
     "output_type": "execute_result"
    }
   ],
   "source": [
    "df[:2]"
   ]
  },
  {
   "cell_type": "code",
   "execution_count": 6,
   "metadata": {},
   "outputs": [],
   "source": [
    "sorted_day_df = df.sort_values(by='인허가일자',ascending=False)\n",
    "selected_df = sorted_day_df[:15000].loc[:, ['개방서비스명', '인허가일자', '폐업일자','영업상태명', '도로명전체주소', '사업장명', '업태구분명', '남성종사자수', '여성종사자수']]\n",
    "# drop_df = selected_df.dropna()\n",
    "selected_df['도로명전체주소'] = selected_df['도로명전체주소'].fillna('')\n",
    "selected_df.loc[:, '도로명전체주소'] = [address.split(',')[0] for address in selected_df['도로명전체주소']]"
   ]
  },
  {
   "cell_type": "code",
   "execution_count": 8,
   "metadata": {},
   "outputs": [],
   "source": [
    "# slice_df = df[:5050]\n",
    "# slice_df2 = df[-6063:]\n",
    "# slice_df = slice_df.loc[:, ['개방서비스명', '영업상태명', '도로명전체주소', '사업장명', '업태구분명', '남성종사자수', '여성종사자수']]\n",
    "# slice_df2 = slice_df2.loc[:, ['개방서비스명', '영업상태명', '도로명전체주소', '사업장명', '업태구분명', '남성종사자수', '여성종사자수']]\n",
    "# concat_df = pd.concat([slice_df, slice_df2])\n",
    "# n_df = concat_df.reset_index().drop(columns='index')\n",
    "# drop_df = n_df.dropna()\n",
    "# drop_df.loc[:, '도로명전체주소'] = [address.split(',')[0] for address in drop_df['도로명전체주소']]"
   ]
  },
  {
   "cell_type": "code",
   "execution_count": 17,
   "metadata": {},
   "outputs": [],
   "source": [
    "selected_df[['시도', '시군구', '읍면동', '도로명', '번지']] = selected_df['도로명전체주소'].apply(lambda x: pd.Series(split_address(x)))\n",
    "selected_df.loc[:, 'num'] = 1\n",
    "result_df = selected_df.rename(columns={'도로명전체주소': '소재지', '사업장명': '시설명', '업태구분명': '구분'})\n",
    "result_df = result_df.reset_index().drop(columns='index')"
   ]
  },
  {
   "cell_type": "code",
   "execution_count": 23,
   "metadata": {},
   "outputs": [],
   "source": [
    "# result_df.to_csv('../data/speed_data.csv', index=False)\n",
    "result_df.to_csv('../data/speed_data2.csv', index=False)"
   ]
  },
  {
   "cell_type": "code",
   "execution_count": null,
   "metadata": {},
   "outputs": [],
   "source": []
  }
 ],
 "metadata": {
  "kernelspec": {
   "display_name": "data",
   "language": "python",
   "name": "python3"
  },
  "language_info": {
   "codemirror_mode": {
    "name": "ipython",
    "version": 3
   },
   "file_extension": ".py",
   "mimetype": "text/x-python",
   "name": "python",
   "nbconvert_exporter": "python",
   "pygments_lexer": "ipython3",
   "version": "3.10.14"
  }
 },
 "nbformat": 4,
 "nbformat_minor": 2
}
